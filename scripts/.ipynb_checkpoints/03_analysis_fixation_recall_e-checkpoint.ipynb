{
 "cells": [
  {
   "cell_type": "code",
   "execution_count": 3,
   "id": "55d3a09e",
   "metadata": {},
   "outputs": [],
   "source": [
    "import pandas as pd\n",
    "import glob\n",
    "import seaborn as sns\n",
    "import matplotlib.pyplot as plt\n",
    "import numpy as np\n",
    "import warnings\n",
    "warnings.filterwarnings(\"ignore\")\n",
    "import scipy.stats as stats\n",
    "\n",
    "def jitter(values,j):\n",
    "    return values + np.random.normal(j,0.1,values.shape)"
   ]
  },
  {
   "cell_type": "code",
   "execution_count": 7,
   "id": "0e353066",
   "metadata": {},
   "outputs": [
    {
     "name": "stdout",
     "output_type": "stream",
     "text": [
      "10\n",
      "['sub001', 'sub002', 'sub003', 'sub004', 'sub005', 'sub006', 'sub007']\n"
     ]
    },
    {
     "data": {
      "text/plain": [
       "['count trash', 'count trash', 'count trash']"
      ]
     },
     "execution_count": 7,
     "metadata": {},
     "output_type": "execute_result"
    }
   ],
   "source": [
    "folders = glob.glob(\"../data/00_gaze_data/sub*\")\n",
    "folders.sort()\n",
    "subjs = []\n",
    "for f in folders:\n",
    "    subjs.append(f[-6:])\n",
    "print(len(subjs))   \n",
    "\n",
    "subjs = subjs[:7]\n",
    "print(subjs)\n",
    "\n",
    "condition_index = ['count trash']*20 + ['free viewing']*20\n",
    "condition_index[:3]"
   ]
  },
  {
   "cell_type": "code",
   "execution_count": 8,
   "id": "9f7da3d1",
   "metadata": {},
   "outputs": [
    {
     "data": {
      "text/html": [
       "<div>\n",
       "<style scoped>\n",
       "    .dataframe tbody tr th:only-of-type {\n",
       "        vertical-align: middle;\n",
       "    }\n",
       "\n",
       "    .dataframe tbody tr th {\n",
       "        vertical-align: top;\n",
       "    }\n",
       "\n",
       "    .dataframe thead th {\n",
       "        text-align: right;\n",
       "    }\n",
       "</style>\n",
       "<table border=\"1\" class=\"dataframe\">\n",
       "  <thead>\n",
       "    <tr style=\"text-align: right;\">\n",
       "      <th></th>\n",
       "      <th>position_index</th>\n",
       "      <th>billboard_image_at_position_text</th>\n",
       "      <th>fix_bill</th>\n",
       "      <th>recall</th>\n",
       "      <th>subject</th>\n",
       "      <th>condition</th>\n",
       "    </tr>\n",
       "  </thead>\n",
       "  <tbody>\n",
       "    <tr>\n",
       "      <th>14</th>\n",
       "      <td>15</td>\n",
       "      <td>hotel</td>\n",
       "      <td>15.0</td>\n",
       "      <td>0.0</td>\n",
       "      <td>sub007</td>\n",
       "      <td>count trash</td>\n",
       "    </tr>\n",
       "    <tr>\n",
       "      <th>15</th>\n",
       "      <td>16</td>\n",
       "      <td>brunch</td>\n",
       "      <td>16.0</td>\n",
       "      <td>1.0</td>\n",
       "      <td>sub007</td>\n",
       "      <td>count trash</td>\n",
       "    </tr>\n",
       "    <tr>\n",
       "      <th>16</th>\n",
       "      <td>17</td>\n",
       "      <td>smoking</td>\n",
       "      <td>17.0</td>\n",
       "      <td>1.0</td>\n",
       "      <td>sub007</td>\n",
       "      <td>count trash</td>\n",
       "    </tr>\n",
       "    <tr>\n",
       "      <th>17</th>\n",
       "      <td>18</td>\n",
       "      <td>text_driving</td>\n",
       "      <td>18.0</td>\n",
       "      <td>0.0</td>\n",
       "      <td>sub007</td>\n",
       "      <td>count trash</td>\n",
       "    </tr>\n",
       "    <tr>\n",
       "      <th>18</th>\n",
       "      <td>20</td>\n",
       "      <td>vaping</td>\n",
       "      <td>20.0</td>\n",
       "      <td>1.0</td>\n",
       "      <td>sub007</td>\n",
       "      <td>count trash</td>\n",
       "    </tr>\n",
       "  </tbody>\n",
       "</table>\n",
       "</div>"
      ],
      "text/plain": [
       "    position_index billboard_image_at_position_text  fix_bill  recall subject  \\\n",
       "14              15                            hotel      15.0     0.0  sub007   \n",
       "15              16                           brunch      16.0     1.0  sub007   \n",
       "16              17                          smoking      17.0     1.0  sub007   \n",
       "17              18                     text_driving      18.0     0.0  sub007   \n",
       "18              20                           vaping      20.0     1.0  sub007   \n",
       "\n",
       "      condition  \n",
       "14  count trash  \n",
       "15  count trash  \n",
       "16  count trash  \n",
       "17  count trash  \n",
       "18  count trash  "
      ]
     },
     "execution_count": 8,
     "metadata": {},
     "output_type": "execute_result"
    }
   ],
   "source": [
    "list_of_dataframes = []\n",
    "\n",
    "for i in range(len(subjs)): #use the first 20 subjs 1-20 -- condition1\n",
    "    read_file_name = '../data/03_fixation_billboards_recall_recognition/'  + subjs[i] +'_fixations_billboards_recall_recognition.csv'\n",
    "    df = pd.read_csv(read_file_name, index_col = 0)\n",
    "    df['subject'] = subjs[i]\n",
    "    df[\"condition\"] = condition_index[i]\n",
    "    list_of_dataframes.append(df)\n",
    "    \n",
    "large_df = pd.concat(list_of_dataframes)\n",
    "large_df.tail()"
   ]
  },
  {
   "cell_type": "code",
   "execution_count": 9,
   "id": "ee1f3161",
   "metadata": {},
   "outputs": [
    {
     "data": {
      "text/html": [
       "<div>\n",
       "<style scoped>\n",
       "    .dataframe tbody tr th:only-of-type {\n",
       "        vertical-align: middle;\n",
       "    }\n",
       "\n",
       "    .dataframe tbody tr th {\n",
       "        vertical-align: top;\n",
       "    }\n",
       "\n",
       "    .dataframe thead th {\n",
       "        text-align: right;\n",
       "    }\n",
       "</style>\n",
       "<table border=\"1\" class=\"dataframe\">\n",
       "  <thead>\n",
       "    <tr style=\"text-align: right;\">\n",
       "      <th></th>\n",
       "      <th>position_index</th>\n",
       "      <th>billboard_image_at_position_text</th>\n",
       "      <th>fix_bill</th>\n",
       "      <th>recall</th>\n",
       "      <th>subject</th>\n",
       "      <th>condition</th>\n",
       "      <th>fix_binarized</th>\n",
       "    </tr>\n",
       "  </thead>\n",
       "  <tbody>\n",
       "    <tr>\n",
       "      <th>0</th>\n",
       "      <td>1</td>\n",
       "      <td>text_driving</td>\n",
       "      <td>0.0</td>\n",
       "      <td>0.0</td>\n",
       "      <td>sub001</td>\n",
       "      <td>count trash</td>\n",
       "      <td>0.0</td>\n",
       "    </tr>\n",
       "    <tr>\n",
       "      <th>1</th>\n",
       "      <td>2</td>\n",
       "      <td>burger</td>\n",
       "      <td>2.0</td>\n",
       "      <td>0.0</td>\n",
       "      <td>sub001</td>\n",
       "      <td>count trash</td>\n",
       "      <td>1.0</td>\n",
       "    </tr>\n",
       "    <tr>\n",
       "      <th>2</th>\n",
       "      <td>3</td>\n",
       "      <td>buckle_up</td>\n",
       "      <td>0.0</td>\n",
       "      <td>0.0</td>\n",
       "      <td>sub001</td>\n",
       "      <td>count trash</td>\n",
       "      <td>0.0</td>\n",
       "    </tr>\n",
       "    <tr>\n",
       "      <th>3</th>\n",
       "      <td>4</td>\n",
       "      <td>hotel</td>\n",
       "      <td>0.0</td>\n",
       "      <td>0.0</td>\n",
       "      <td>sub001</td>\n",
       "      <td>count trash</td>\n",
       "      <td>0.0</td>\n",
       "    </tr>\n",
       "    <tr>\n",
       "      <th>4</th>\n",
       "      <td>5</td>\n",
       "      <td>sun_protection</td>\n",
       "      <td>0.0</td>\n",
       "      <td>0.0</td>\n",
       "      <td>sub001</td>\n",
       "      <td>count trash</td>\n",
       "      <td>0.0</td>\n",
       "    </tr>\n",
       "  </tbody>\n",
       "</table>\n",
       "</div>"
      ],
      "text/plain": [
       "   position_index billboard_image_at_position_text  fix_bill  recall subject  \\\n",
       "0               1                     text_driving       0.0     0.0  sub001   \n",
       "1               2                           burger       2.0     0.0  sub001   \n",
       "2               3                        buckle_up       0.0     0.0  sub001   \n",
       "3               4                            hotel       0.0     0.0  sub001   \n",
       "4               5                   sun_protection       0.0     0.0  sub001   \n",
       "\n",
       "     condition  fix_binarized  \n",
       "0  count trash            0.0  \n",
       "1  count trash            1.0  \n",
       "2  count trash            0.0  \n",
       "3  count trash            0.0  \n",
       "4  count trash            0.0  "
      ]
     },
     "execution_count": 9,
     "metadata": {},
     "output_type": "execute_result"
    }
   ],
   "source": [
    "large_df['fix_binarized'] = large_df['fix_bill']\n",
    "#large_df.iloc[large_df['fix_binarized']>2] = 2\n",
    "\n",
    "large_df.loc[large_df['fix_binarized'] > 1, 'fix_binarized'] = 1\n",
    "#large_df.loc[large_df['fix_binarized'] > 3, 'fix_binarized'] = 3\n",
    "\n",
    "large_df.head()\n",
    "\n",
    "#commenting out saving\n",
    "#large_df.to_csv('../data/04_statistics/csv/billboard_fixations_recall_recognition_df.csv')"
   ]
  },
  {
   "cell_type": "code",
   "execution_count": 25,
   "id": "fe79ab45",
   "metadata": {},
   "outputs": [
    {
     "data": {
      "text/plain": [
       "(0.0, 4.0)"
      ]
     },
     "execution_count": 25,
     "metadata": {},
     "output_type": "execute_result"
    },
    {
     "data": {
      "image/png": "[encoded data removed]",
      "text/plain": [
       "<Figure size 640x480 with 1 Axes>"
      ]
     },
     "metadata": {},
     "output_type": "display_data"
    }
   ],
   "source": [
    "large_df.head()\n",
    "by_pos_df = large_df[large_df['condition']=='count trash'].groupby('position_index').agg({'fix_binarized':'mean'})\n",
    "by_pos_df.plot()\n",
    "plt.ylim([0,4])\n",
    "\n",
    "#by_pos_df = large_df[large_df['condition']=='free viewing'].groupby('position_index').mean()\n",
    "#by_pos_df.plot()\n",
    "#plt.ylim([0,4])"
   ]
  },
  {
   "cell_type": "code",
   "execution_count": 31,
   "id": "7d6dc7b3-ef2c-4c4f-8573-827ad01a4661",
   "metadata": {},
   "outputs": [
    {
     "data": {
      "text/html": [
       "<div>\n",
       "<style scoped>\n",
       "    .dataframe tbody tr th:only-of-type {\n",
       "        vertical-align: middle;\n",
       "    }\n",
       "\n",
       "    .dataframe tbody tr th {\n",
       "        vertical-align: top;\n",
       "    }\n",
       "\n",
       "    .dataframe thead th {\n",
       "        text-align: right;\n",
       "    }\n",
       "</style>\n",
       "<table border=\"1\" class=\"dataframe\">\n",
       "  <thead>\n",
       "    <tr style=\"text-align: right;\">\n",
       "      <th></th>\n",
       "      <th>fix_binarized</th>\n",
       "      <th>recall</th>\n",
       "    </tr>\n",
       "    <tr>\n",
       "      <th>subject</th>\n",
       "      <th></th>\n",
       "      <th></th>\n",
       "    </tr>\n",
       "  </thead>\n",
       "  <tbody>\n",
       "    <tr>\n",
       "      <th>sub001</th>\n",
       "      <td>3.0</td>\n",
       "      <td>0.0</td>\n",
       "    </tr>\n",
       "    <tr>\n",
       "      <th>sub002</th>\n",
       "      <td>19.0</td>\n",
       "      <td>4.0</td>\n",
       "    </tr>\n",
       "    <tr>\n",
       "      <th>sub003</th>\n",
       "      <td>6.0</td>\n",
       "      <td>2.0</td>\n",
       "    </tr>\n",
       "    <tr>\n",
       "      <th>sub004</th>\n",
       "      <td>17.0</td>\n",
       "      <td>6.0</td>\n",
       "    </tr>\n",
       "    <tr>\n",
       "      <th>sub005</th>\n",
       "      <td>19.0</td>\n",
       "      <td>4.0</td>\n",
       "    </tr>\n",
       "    <tr>\n",
       "      <th>sub006</th>\n",
       "      <td>18.0</td>\n",
       "      <td>3.0</td>\n",
       "    </tr>\n",
       "    <tr>\n",
       "      <th>sub007</th>\n",
       "      <td>18.0</td>\n",
       "      <td>4.0</td>\n",
       "    </tr>\n",
       "  </tbody>\n",
       "</table>\n",
       "</div>"
      ],
      "text/plain": [
       "         fix_binarized  recall\n",
       "subject                       \n",
       "sub001             3.0     0.0\n",
       "sub002            19.0     4.0\n",
       "sub003             6.0     2.0\n",
       "sub004            17.0     6.0\n",
       "sub005            19.0     4.0\n",
       "sub006            18.0     3.0\n",
       "sub007            18.0     4.0"
      ]
     },
     "execution_count": 31,
     "metadata": {},
     "output_type": "execute_result"
    }
   ],
   "source": [
    "large_df.groupby('subject').agg({'fix_binarized':'sum', 'recall':'sum'})"
   ]
  },
  {
   "cell_type": "code",
   "execution_count": 33,
   "id": "e8247054",
   "metadata": {},
   "outputs": [
    {
     "data": {
      "text/html": [
       "<div>\n",
       "<style scoped>\n",
       "    .dataframe tbody tr th:only-of-type {\n",
       "        vertical-align: middle;\n",
       "    }\n",
       "\n",
       "    .dataframe tbody tr th {\n",
       "        vertical-align: top;\n",
       "    }\n",
       "\n",
       "    .dataframe thead th {\n",
       "        text-align: right;\n",
       "    }\n",
       "</style>\n",
       "<table border=\"1\" class=\"dataframe\">\n",
       "  <thead>\n",
       "    <tr style=\"text-align: right;\">\n",
       "      <th></th>\n",
       "      <th>fix_binarized</th>\n",
       "      <th>recall</th>\n",
       "      <th>recall_rate</th>\n",
       "    </tr>\n",
       "    <tr>\n",
       "      <th>subject</th>\n",
       "      <th></th>\n",
       "      <th></th>\n",
       "      <th></th>\n",
       "    </tr>\n",
       "  </thead>\n",
       "  <tbody>\n",
       "    <tr>\n",
       "      <th>sub001</th>\n",
       "      <td>3.0</td>\n",
       "      <td>0.0</td>\n",
       "      <td>0.0</td>\n",
       "    </tr>\n",
       "    <tr>\n",
       "      <th>sub002</th>\n",
       "      <td>19.0</td>\n",
       "      <td>4.0</td>\n",
       "      <td>0.2</td>\n",
       "    </tr>\n",
       "    <tr>\n",
       "      <th>sub003</th>\n",
       "      <td>6.0</td>\n",
       "      <td>2.0</td>\n",
       "      <td>0.1</td>\n",
       "    </tr>\n",
       "    <tr>\n",
       "      <th>sub004</th>\n",
       "      <td>17.0</td>\n",
       "      <td>6.0</td>\n",
       "      <td>0.3</td>\n",
       "    </tr>\n",
       "    <tr>\n",
       "      <th>sub005</th>\n",
       "      <td>19.0</td>\n",
       "      <td>4.0</td>\n",
       "      <td>0.2</td>\n",
       "    </tr>\n",
       "  </tbody>\n",
       "</table>\n",
       "</div>"
      ],
      "text/plain": [
       "         fix_binarized  recall  recall_rate\n",
       "subject                                    \n",
       "sub001             3.0     0.0          0.0\n",
       "sub002            19.0     4.0          0.2\n",
       "sub003             6.0     2.0          0.1\n",
       "sub004            17.0     6.0          0.3\n",
       "sub005            19.0     4.0          0.2"
      ]
     },
     "execution_count": 33,
     "metadata": {},
     "output_type": "execute_result"
    }
   ],
   "source": [
    "by_subject_df = large_df.groupby('subject').agg({'fix_binarized':'sum', 'recall':'sum'})\n",
    "#by_subject_df = by_subject_df.drop(columns = \"fix_binarized\")\n",
    "by_subject_df['recall_rate'] = by_subject_df['recall']/20 \n",
    "#by_subject_df['recognition_rate'] = by_subject_df['recognition']/20 \n",
    "by_subject_df.head()"
   ]
  },
  {
   "cell_type": "markdown",
   "id": "92002880",
   "metadata": {},
   "source": [
    "### Plot"
   ]
  },
  {
   "cell_type": "code",
   "execution_count": 34,
   "id": "b6f3cafd",
   "metadata": {},
   "outputs": [
    {
     "data": {
      "image/png": "[encoded data removed]",
      "text/plain": [
       "<Figure size 500x500 with 1 Axes>"
      ]
     },
     "metadata": {},
     "output_type": "display_data"
    }
   ],
   "source": [
    "# list with ordered categories\n",
    "fig, ax = plt.subplots(1, figsize=(5,5))\n",
    "\n",
    "sns.scatterplot(x = jitter(large_df.fix_binarized,0), \n",
    "                y = jitter(large_df.recall,0),\n",
    "                hue = large_df.condition,\n",
    "                alpha=0.35,\n",
    "                );\n",
    "plt.legend(loc='right');\n",
    "\n",
    "plt.xticks([0, 1], ['not looked at', 'looked at'])\n",
    "plt.xlabel('BILLBOARD FIXATIONS');\n",
    "\n",
    "plt.yticks([0, 1], ['not recalled', 'recalled'])\n",
    "plt.yticks(rotation=90)\n",
    "plt.ylabel('FREE RECALL');\n",
    "\n",
    "sns.despine()"
   ]
  },
  {
   "cell_type": "markdown",
   "id": "98950c0f",
   "metadata": {},
   "source": [
    "### Gradient analysis"
   ]
  },
  {
   "cell_type": "code",
   "execution_count": 38,
   "id": "00c19c56",
   "metadata": {},
   "outputs": [],
   "source": [
    "subjres = []\n",
    "\n",
    "for i in range(len(subjs)):\n",
    "    res = np.zeros(3)\n",
    "    \n",
    "    df = large_df[large_df['subject'] == subjs[i]]\n",
    "    curr_sub_med_fix = df[ df['fix_bill']!=0]['fix_bill'].median()\n",
    "\n",
    "    res[0] = df[ df['fix_bill']==0]['recall'].sum()\n",
    "\n",
    "    interim_df = df[ df['fix_bill'] > 0 ]\n",
    "    interim_df = interim_df[ interim_df['fix_bill'] < curr_sub_med_fix ]\n",
    "    res[1] = interim_df['recall'].sum()    \n",
    "\n",
    "    res[2] = df[ df['fix_bill']>curr_sub_med_fix]['recall'].sum()  # more than 2 fixations\n",
    "    \n",
    "    subjres.append(res)\n",
    "    \n",
    "subj_df = pd.DataFrame(np.asarray(subjres), columns = ['not_fixated_recalled', 'some_fixated_recalled','alot_fixated_recalled'])\n",
    "subj_df['subject'] = subjs\n",
    "#subj_df['condition'] = condition_index\n",
    "\n",
    "#commenting out saving\n",
    "subj_df.to_csv('../data/04_statistics/csv/billboad_fixation_gradient_recall_R1.csv')"
   ]
  },
  {
   "cell_type": "code",
   "execution_count": null,
   "id": "0a800bb3",
   "metadata": {},
   "outputs": [],
   "source": []
  },
  {
   "cell_type": "code",
   "execution_count": null,
   "id": "12b44e04-a565-4614-aab1-94c256373e53",
   "metadata": {},
   "outputs": [],
   "source": []
  }
 ],
 "metadata": {
  "kernelspec": {
   "display_name": "Python 3 (ipykernel)",
   "language": "python",
   "name": "python3"
  },
  "language_info": {
   "codemirror_mode": {
    "name": "ipython",
    "version": 3
   },
   "file_extension": ".py",
   "mimetype": "text/x-python",
   "name": "python",
   "nbconvert_exporter": "python",
   "pygments_lexer": "ipython3",
   "version": "3.10.12"
  }
 },
 "nbformat": 4,
 "nbformat_minor": 5
}
