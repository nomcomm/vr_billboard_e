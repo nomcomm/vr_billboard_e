{
 "cells": [
  {
   "cell_type": "code",
   "execution_count": null,
   "id": "7f0bab35-7471-4e2c-b7a3-4eb1d2104684",
   "metadata": {},
   "outputs": [],
   "source": [
    "#this is a silly new notebook"
   ]
  }
 ],
 "metadata": {
  "kernelspec": {
   "display_name": "Python 3 (ipykernel)",
   "language": "python",
   "name": "python3"
  },
  "language_info": {
   "codemirror_mode": {
    "name": "ipython",
    "version": 3
   },
   "file_extension": ".py",
   "mimetype": "text/x-python",
   "name": "python",
   "nbconvert_exporter": "python",
   "pygments_lexer": "ipython3",
   "version": "3.10.12"
  }
 },
 "nbformat": 4,
 "nbformat_minor": 5
}
