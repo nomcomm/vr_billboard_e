{
 "cells": [
  {
   "cell_type": "code",
   "execution_count": 1,
   "id": "8ae90103-a9f5-4749-8d55-0d76b2c70a83",
   "metadata": {},
   "outputs": [
    {
     "name": "stdout",
     "output_type": "stream",
     "text": [
      "SightLab_VR_drivingE.py  Untitled.ipynb\n"
     ]
    }
   ],
   "source": [
    "ls"
   ]
  },
  {
   "cell_type": "code",
   "execution_count": 1,
   "id": "4a194a5b-c0e8-43dd-ac9c-f000b81968ad",
   "metadata": {},
   "outputs": [],
   "source": [
    "names_list = [ 'buckle_up_emo',         #1\n",
    "               'binge_drinking_emo',    #2\n",
    "               'hiv_emo',               #3\n",
    "               'sunscreen_emo',         #4\n",
    "               'vaccination_emo',       #5\n",
    "               'distracted_driving_emo',#6\n",
    "               'underage_drinking_emo', #7\n",
    "               'drugged_driving_emo',   #8\n",
    "               'diabetes_emo',          #9\n",
    "               'smoking_emo',           #10\n",
    "              'buckle_up_neu',         #1\n",
    "               'binge_drinking_neu',    #2\n",
    "               'hiv_neu',               #3\n",
    "               'sunscreen_neu',         #4\n",
    "               'vaccination_neu',       #5\n",
    "               'distracted_driving_neu',#6\n",
    "               'underage_drinking_neu', #7\n",
    "               'drugged_driving_neu',   #8\n",
    "               'diabetes_neu',          #9\n",
    "               'smoking_neu',   \n",
    "                'brunch_emo',            #1\n",
    "                   'burger_emo',            #2\n",
    "                   'coffee_emo',            #3\n",
    "                   'education_donation_emo',#4\n",
    "                   'furniture_emo',         #5\n",
    "                   'hotel_emo',             #6\n",
    "                   'lawyer_emo',            #7\n",
    "                   'pizza_emo',             #8\n",
    "                   'salad_emo',             #9\n",
    "                   'smartphone_emo',\n",
    "              'brunch_neu',            #1\n",
    "                   'burger_neu',            #2\n",
    "                   'coffee_neu',            #3\n",
    "                   'education_donation_neu',#4\n",
    "                   'furniture_neu',         #5\n",
    "                   'hotel_neu',             #6\n",
    "                   'lawyer_neu',            #7\n",
    "                   'pizza_neu',             #8\n",
    "                   'salad_neu',             #9\n",
    "                   'smartphone_neu']       #10\n",
    "\n"
   ]
  },
  {
   "cell_type": "code",
   "execution_count": 2,
   "id": "e8e62c03-b639-4951-a795-9c10fbfc0181",
   "metadata": {},
   "outputs": [],
   "source": [
    "import PIL.Image\n",
    "from PIL import ImageDraw, ImageFont\n",
    "\n",
    "for i in range(len(names_list)):\n",
    "    current_name = names_list[i]\n",
    "    image = PIL.Image.new('RGB', (702, 230))\n",
    "    \n",
    "    # Write text on the image\n",
    "    draw = PIL.ImageDraw.Draw(image)\n",
    "    font = PIL.ImageFont.truetype(\"Arial.ttf\", 60)\n",
    "    draw.text((50, 70), current_name, fill='white', font = font)\n",
    "    \n",
    "    # Save the image\n",
    "    outfile_name = current_name + '.bmp' \n",
    "    image.save(outfile_name)\n",
    "    "
   ]
  },
  {
   "cell_type": "code",
   "execution_count": null,
   "id": "e1bc3d8c-7abd-4bb1-973f-f19f57095043",
   "metadata": {},
   "outputs": [],
   "source": []
  }
 ],
 "metadata": {
  "kernelspec": {
   "display_name": "Python 3 (ipykernel)",
   "language": "python",
   "name": "python3"
  },
  "language_info": {
   "codemirror_mode": {
    "name": "ipython",
    "version": 3
   },
   "file_extension": ".py",
   "mimetype": "text/x-python",
   "name": "python",
   "nbconvert_exporter": "python",
   "pygments_lexer": "ipython3",
   "version": "3.10.12"
  }
 },
 "nbformat": 4,
 "nbformat_minor": 5
}
