{
 "cells": [
  {
   "cell_type": "code",
   "execution_count": 1,
   "id": "8ae90103-a9f5-4749-8d55-0d76b2c70a83",
   "metadata": {},
   "outputs": [
    {
     "name": "stdout",
     "output_type": "stream",
     "text": [
      "SightLab_VR_drivingE.py  Untitled.ipynb\n"
     ]
    }
   ],
   "source": [
    "ls"
   ]
  },
  {
   "cell_type": "code",
   "execution_count": 1,
   "id": "4a194a5b-c0e8-43dd-ac9c-f000b81968ad",
   "metadata": {},
   "outputs": [],
   "source": [
    "names_list =  ['health_1_emo',            #1\n",
    "               'health_2_emo',           #2\n",
    "               'health_3_emo',           #3\n",
    "               'health_4_emo',           #4\n",
    "               'health_5_emo',           #5\n",
    "               'health_6_emo',           #6\n",
    "               'health_7_emo',           #7\n",
    "               'health_8_emo',           #8\n",
    "               'health_9_emo',           #9\n",
    "               'health_10_emo',          #10\n",
    "               'health_11_emo',          #11\n",
    "               'health_12_emo',          #12\n",
    "               'health_13_emo',          #13\n",
    "               'health_14_emo',          #14\n",
    "               'commercial_1_emo',       #1\n",
    "               'commercial_2_emo',       #2\n",
    "               'commercial_3_emo',       #3\n",
    "               'commercial_4_emo',       #4\n",
    "               'commercial_5_emo',       #5\n",
    "               'commercial_6_emo',       #6\n",
    "               'health_1_neu',            #1\n",
    "               'health_2_neu',           #2\n",
    "               'health_3_neu',           #3\n",
    "               'health_4_neu',           #4\n",
    "               'health_5_neu',           #5\n",
    "               'health_6_neu',           #6\n",
    "               'health_7_neu',           #7\n",
    "               'health_8_neu',           #8\n",
    "               'health_9_neu',           #9\n",
    "               'health_10_neu',          #10\n",
    "               'health_11_neu',          #11\n",
    "               'health_12_neu',          #12\n",
    "               'health_13_neu',          #13\n",
    "               'health_14_neu',          #14\n",
    "               'commercial_1_neu',       #1\n",
    "               'commercial_2_neu',       #2\n",
    "               'commercial_3_neu',       #3\n",
    "               'commercial_4_neu',       #4\n",
    "               'commercial_5_neu',       #5\n",
    "               'commercial_6_neu']       #6\n"
   ]
  },
  {
   "cell_type": "code",
   "execution_count": 2,
   "id": "e8e62c03-b639-4951-a795-9c10fbfc0181",
   "metadata": {},
   "outputs": [],
   "source": [
    "import PIL.Image\n",
    "from PIL import ImageDraw, ImageFont\n",
    "\n",
    "for i in range(len(names_list)):\n",
    "    current_name = names_list[i]\n",
    "    image = PIL.Image.new('RGB', (702, 230))\n",
    "    \n",
    "    # Write text on the image\n",
    "    draw = PIL.ImageDraw.Draw(image)\n",
    "    font = PIL.ImageFont.truetype(\"Arial.ttf\", 60)\n",
    "    draw.text((50, 70), current_name, fill='white', font = font)\n",
    "    \n",
    "    # Save the image\n",
    "    outfile_name = current_name + '.bmp' \n",
    "    image.save(outfile_name)\n",
    "    "
   ]
  },
  {
   "cell_type": "code",
   "execution_count": null,
   "id": "e1bc3d8c-7abd-4bb1-973f-f19f57095043",
   "metadata": {},
   "outputs": [],
   "source": []
  }
 ],
 "metadata": {
  "kernelspec": {
   "display_name": "Python 3 (ipykernel)",
   "language": "python",
   "name": "python3"
  },
  "language_info": {
   "codemirror_mode": {
    "name": "ipython",
    "version": 3
   },
   "file_extension": ".py",
   "mimetype": "text/x-python",
   "name": "python",
   "nbconvert_exporter": "python",
   "pygments_lexer": "ipython3",
   "version": "3.10.12"
  }
 },
 "nbformat": 4,
 "nbformat_minor": 5
}
